{
 "cells": [
  {
   "cell_type": "code",
   "execution_count": 9,
   "metadata": {},
   "outputs": [],
   "source": [
    "import requests\n",
    "import pandas as pd"
   ]
  },
  {
   "cell_type": "code",
   "execution_count": 17,
   "metadata": {},
   "outputs": [],
   "source": [
    "# Fetch the JSON data from the URL\n",
    "url = \"https://chronicdata.cdc.gov/views/735e-byxc/rows.json?accessType=DOWNLOAD\"\n",
    "response = requests.get(url)\n",
    "data = response.json()\n",
    "\n",
    "# Extract the required fields from the JSON data\n",
    "rows = data['data']\n",
    "columns = data['meta']['view']['columns']\n",
    "\n",
    "# Find the indices of the desired columns\n",
    "column_names = [column['name'] for column in columns]\n",
    "year_start_index = column_names.index('YearStart')\n",
    "location_abbr_index = column_names.index('LocationAbbr')\n",
    "data_value_index = column_names.index('Data_Value')\n",
    "geolocation_index = column_names.index('GeoLocation')\n",
    "sample_size_index = column_names.index('Sample_Size')\n",
    "question_index = column_names.index('Question')\n",
    "states_index = column_names.index('States')\n",
    "counties_index = column_names.index('Counties')\n",
    "stratification1_index = column_names.index('Stratification1')\n",
    "\n",
    "# Create a list to store the extracted data\n",
    "extracted_data = []\n",
    "for row in rows:\n",
    "    geolocation = row[geolocation_index]\n",
    "    latitude = geolocation[1] if len(geolocation) > 1 else None\n",
    "    longitude = geolocation[2] if len(geolocation) > 2 else None\n",
    "    \n",
    "    question = row[question_index]\n",
    "    age_category = '3-23 months old' if '3-23 months old' in question else 'aged 2 to 4 year'\n",
    "    \n",
    "    extracted_data.append([\n",
    "        row[year_start_index],\n",
    "        row[location_abbr_index],\n",
    "        row[data_value_index],\n",
    "        latitude,\n",
    "        longitude,\n",
    "        row[sample_size_index],\n",
    "        question,\n",
    "        age_category,\n",
    "        row[states_index],\n",
    "        row[counties_index],\n",
    "        row[stratification1_index]\n",
    "    ])\n",
    "\n",
    "# Create a dataframe from the extracted data\n",
    "df = pd.DataFrame(extracted_data, columns=['YearStart', 'LocationAbbr', 'Data_Value', 'Latitude', 'Longitude', 'Sample_Size', 'Question', 'Age_Category', 'States', 'Counties', 'Stratification1'])"
   ]
  },
  {
   "cell_type": "code",
   "execution_count": 32,
   "metadata": {},
   "outputs": [
    {
     "data": {
      "text/html": [
       "<div>\n",
       "<style scoped>\n",
       "    .dataframe tbody tr th:only-of-type {\n",
       "        vertical-align: middle;\n",
       "    }\n",
       "\n",
       "    .dataframe tbody tr th {\n",
       "        vertical-align: top;\n",
       "    }\n",
       "\n",
       "    .dataframe thead th {\n",
       "        text-align: right;\n",
       "    }\n",
       "</style>\n",
       "<table border=\"1\" class=\"dataframe\">\n",
       "  <thead>\n",
       "    <tr style=\"text-align: right;\">\n",
       "      <th></th>\n",
       "      <th>YearStart</th>\n",
       "      <th>LocationAbbr</th>\n",
       "      <th>Data_Value</th>\n",
       "      <th>Latitude</th>\n",
       "      <th>Longitude</th>\n",
       "      <th>Sample_Size</th>\n",
       "      <th>Question</th>\n",
       "      <th>Age_Category</th>\n",
       "      <th>States</th>\n",
       "      <th>Counties</th>\n",
       "      <th>Stratification1</th>\n",
       "    </tr>\n",
       "  </thead>\n",
       "  <tbody>\n",
       "    <tr>\n",
       "      <th>0</th>\n",
       "      <td>2018</td>\n",
       "      <td>WA</td>\n",
       "      <td>13.7</td>\n",
       "      <td>47.522279</td>\n",
       "      <td>-120.470011</td>\n",
       "      <td>12230.0</td>\n",
       "      <td>Percent of WIC children aged 3-23 months old w...</td>\n",
       "      <td>3-23 months old</td>\n",
       "      <td>6</td>\n",
       "      <td>2956</td>\n",
       "      <td>18 - 23</td>\n",
       "    </tr>\n",
       "    <tr>\n",
       "      <th>1</th>\n",
       "      <td>2018</td>\n",
       "      <td>HI</td>\n",
       "      <td>10.2</td>\n",
       "      <td>21.304850</td>\n",
       "      <td>-157.857749</td>\n",
       "      <td>2192.0</td>\n",
       "      <td>Percent of WIC children aged 3-23 months old w...</td>\n",
       "      <td>3-23 months old</td>\n",
       "      <td>4</td>\n",
       "      <td>1657</td>\n",
       "      <td>Hispanic</td>\n",
       "    </tr>\n",
       "    <tr>\n",
       "      <th>2</th>\n",
       "      <td>2020</td>\n",
       "      <td>MA</td>\n",
       "      <td>17.6</td>\n",
       "      <td>42.276870</td>\n",
       "      <td>-72.082691</td>\n",
       "      <td>13520.0</td>\n",
       "      <td>Percent of WIC children aged 2 to 4 years who ...</td>\n",
       "      <td>aged 2 to 4 year</td>\n",
       "      <td>25</td>\n",
       "      <td>1919</td>\n",
       "      <td>Hispanic</td>\n",
       "    </tr>\n",
       "    <tr>\n",
       "      <th>3</th>\n",
       "      <td>2020</td>\n",
       "      <td>TN</td>\n",
       "      <td>18.9</td>\n",
       "      <td>35.680941</td>\n",
       "      <td>-85.774491</td>\n",
       "      <td>4947.0</td>\n",
       "      <td>Percent of WIC children aged 2 to 4 years who ...</td>\n",
       "      <td>aged 2 to 4 year</td>\n",
       "      <td>39</td>\n",
       "      <td>2159</td>\n",
       "      <td>Hispanic</td>\n",
       "    </tr>\n",
       "    <tr>\n",
       "      <th>4</th>\n",
       "      <td>2012</td>\n",
       "      <td>GU</td>\n",
       "      <td>12.0</td>\n",
       "      <td>13.444304</td>\n",
       "      <td>144.793731</td>\n",
       "      <td>1456.0</td>\n",
       "      <td>Percent of WIC children aged 2 to 4 years who ...</td>\n",
       "      <td>aged 2 to 4 year</td>\n",
       "      <td>None</td>\n",
       "      <td>None</td>\n",
       "      <td>Male</td>\n",
       "    </tr>\n",
       "  </tbody>\n",
       "</table>\n",
       "</div>"
      ],
      "text/plain": [
       "   YearStart LocationAbbr  Data_Value   Latitude   Longitude  Sample_Size  \\\n",
       "0       2018           WA        13.7  47.522279 -120.470011      12230.0   \n",
       "1       2018           HI        10.2  21.304850 -157.857749       2192.0   \n",
       "2       2020           MA        17.6  42.276870  -72.082691      13520.0   \n",
       "3       2020           TN        18.9  35.680941  -85.774491       4947.0   \n",
       "4       2012           GU        12.0  13.444304  144.793731       1456.0   \n",
       "\n",
       "                                            Question      Age_Category States  \\\n",
       "0  Percent of WIC children aged 3-23 months old w...   3-23 months old      6   \n",
       "1  Percent of WIC children aged 3-23 months old w...   3-23 months old      4   \n",
       "2  Percent of WIC children aged 2 to 4 years who ...  aged 2 to 4 year     25   \n",
       "3  Percent of WIC children aged 2 to 4 years who ...  aged 2 to 4 year     39   \n",
       "4  Percent of WIC children aged 2 to 4 years who ...  aged 2 to 4 year   None   \n",
       "\n",
       "  Counties Stratification1  \n",
       "0     2956         18 - 23  \n",
       "1     1657        Hispanic  \n",
       "2     1919        Hispanic  \n",
       "3     2159        Hispanic  \n",
       "4     None            Male  "
      ]
     },
     "execution_count": 32,
     "metadata": {},
     "output_type": "execute_result"
    }
   ],
   "source": [
    "df.head()"
   ]
  },
  {
   "cell_type": "code",
   "execution_count": 28,
   "metadata": {},
   "outputs": [],
   "source": [
    "df['YearStart'] = df['YearStart'].astype(int)\n",
    "df['Data_Value'] = df['Data_Value'].astype(float)\n",
    "df['Sample_Size'] = df['Sample_Size'].astype(float)\n",
    "df['Latitude'] = df['Latitude'].astype(float)\n",
    "df['Longitude'] = df['Longitude'].astype(float)"
   ]
  },
  {
   "cell_type": "code",
   "execution_count": 29,
   "metadata": {},
   "outputs": [
    {
     "name": "stdout",
     "output_type": "stream",
     "text": [
      "<class 'pandas.core.frame.DataFrame'>\n",
      "RangeIndex: 12852 entries, 0 to 12851\n",
      "Data columns (total 11 columns):\n",
      " #   Column           Non-Null Count  Dtype  \n",
      "---  ------           --------------  -----  \n",
      " 0   YearStart        12852 non-null  int32  \n",
      " 1   LocationAbbr     12852 non-null  object \n",
      " 2   Data_Value       12473 non-null  float64\n",
      " 3   Latitude         12852 non-null  float64\n",
      " 4   Longitude        12852 non-null  float64\n",
      " 5   Sample_Size      12473 non-null  float64\n",
      " 6   Question         12852 non-null  object \n",
      " 7   Age_Category     12852 non-null  object \n",
      " 8   States           12138 non-null  object \n",
      " 9   Counties         12376 non-null  object \n",
      " 10  Stratification1  12852 non-null  object \n",
      "dtypes: float64(4), int32(1), object(6)\n",
      "memory usage: 1.0+ MB\n"
     ]
    }
   ],
   "source": [
    "df.info()"
   ]
  },
  {
   "cell_type": "code",
   "execution_count": 30,
   "metadata": {},
   "outputs": [
    {
     "name": "stdout",
     "output_type": "stream",
     "text": [
      "count    12473.000000\n",
      "mean        13.919971\n",
      "std          3.643496\n",
      "min          1.500000\n",
      "25%         11.600000\n",
      "50%         14.100000\n",
      "75%         16.200000\n",
      "max         36.100000\n",
      "Name: Data_Value, dtype: float64\n"
     ]
    }
   ],
   "source": [
    "data_value_stats = df['Data_Value'].describe()\n",
    "print(data_value_stats)"
   ]
  },
  {
   "cell_type": "code",
   "execution_count": 31,
   "metadata": {},
   "outputs": [
    {
     "data": {
      "text/plain": [
       "YearStart          12852\n",
       "LocationAbbr       12852\n",
       "Data_Value         12473\n",
       "Latitude           12852\n",
       "Longitude          12852\n",
       "Sample_Size        12473\n",
       "Question           12852\n",
       "Age_Category       12852\n",
       "States             12138\n",
       "Counties           12376\n",
       "Stratification1    12852\n",
       "dtype: int64"
      ]
     },
     "execution_count": 31,
     "metadata": {},
     "output_type": "execute_result"
    }
   ],
   "source": [
    "df.count()"
   ]
  },
  {
   "cell_type": "code",
   "execution_count": null,
   "metadata": {},
   "outputs": [],
   "source": []
  }
 ],
 "metadata": {
  "kernelspec": {
   "display_name": "PythonData",
   "language": "python",
   "name": "python3"
  },
  "language_info": {
   "codemirror_mode": {
    "name": "ipython",
    "version": 3
   },
   "file_extension": ".py",
   "mimetype": "text/x-python",
   "name": "python",
   "nbconvert_exporter": "python",
   "pygments_lexer": "ipython3",
   "version": "3.7.7"
  },
  "orig_nbformat": 4
 },
 "nbformat": 4,
 "nbformat_minor": 2
}
